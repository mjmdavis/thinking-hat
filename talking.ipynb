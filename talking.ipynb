{
 "cells": [
  {
   "cell_type": "markdown",
   "metadata": {},
   "source": [
    "# Talking"
   ]
  },
  {
   "cell_type": "code",
   "execution_count": 1,
   "metadata": {},
   "outputs": [],
   "source": [
    "import subprocess\n",
    "import shlex"
   ]
  },
  {
   "cell_type": "code",
   "execution_count": 2,
   "metadata": {},
   "outputs": [
    {
     "data": {
      "text/plain": [
       "<subprocess.Popen at 0x71f83290>"
      ]
     },
     "execution_count": 2,
     "metadata": {},
     "output_type": "execute_result"
    }
   ],
   "source": [
    "subprocess.Popen(['espeak', 'hello, how are you'])"
   ]
  },
  {
   "cell_type": "code",
   "execution_count": 3,
   "metadata": {},
   "outputs": [],
   "source": [
    "def say_something(text_to_speak):\n",
    "    command = \"aplay <(espeak '{}' --stdout)\".format(text_to_speak)\n",
    "    print(command)\n",
    "    subprocess.run([\"bash\", \"-c\", command])"
   ]
  },
  {
   "cell_type": "code",
   "execution_count": 4,
   "metadata": {},
   "outputs": [
    {
     "name": "stdout",
     "output_type": "stream",
     "text": [
      "aplay <(espeak 'when I see tiger cat, I think of cat' --stdout)\n"
     ]
    }
   ],
   "source": [
    "say_something('when I see tiger cat, I think of cat')"
   ]
  },
  {
   "cell_type": "code",
   "execution_count": 5,
   "metadata": {},
   "outputs": [],
   "source": [
    "import tempfile"
   ]
  },
  {
   "cell_type": "code",
   "execution_count": 6,
   "metadata": {},
   "outputs": [
    {
     "data": {
      "text/plain": [
       "'/tmp/tmp5xnk064f'"
      ]
     },
     "execution_count": 6,
     "metadata": {},
     "output_type": "execute_result"
    }
   ],
   "source": [
    "fname = tempfile.mktemp()\n",
    "fname"
   ]
  },
  {
   "cell_type": "code",
   "execution_count": 7,
   "metadata": {},
   "outputs": [],
   "source": [
    "text = '\"hello, my name is Lyza\"'"
   ]
  },
  {
   "cell_type": "code",
   "execution_count": 8,
   "metadata": {},
   "outputs": [
    {
     "name": "stdout",
     "output_type": "stream",
     "text": [
      "CPU times: user 0 ns, sys: 10 ms, total: 10 ms\n",
      "Wall time: 176 ms\n"
     ]
    },
    {
     "data": {
      "text/plain": [
       "0"
      ]
     },
     "execution_count": 8,
     "metadata": {},
     "output_type": "execute_result"
    }
   ],
   "source": [
    "%time subprocess.call([\"pico2wave\", \"--wave={}.wav\".format(fname), \"-len-GB\", text])"
   ]
  },
  {
   "cell_type": "code",
   "execution_count": 9,
   "metadata": {},
   "outputs": [
    {
     "name": "stdout",
     "output_type": "stream",
     "text": [
      "CPU times: user 0 ns, sys: 10 ms, total: 10 ms\n",
      "Wall time: 10.5 ms\n"
     ]
    },
    {
     "data": {
      "text/plain": [
       "<subprocess.Popen at 0x71f83750>"
      ]
     },
     "execution_count": 9,
     "metadata": {},
     "output_type": "execute_result"
    }
   ],
   "source": [
    "%time subprocess.Popen([\"aplay\", \"{}.wav\".format(fname), \"&&\", \"rm\", \"{}.wav\".format(fname)])"
   ]
  },
  {
   "cell_type": "code",
   "execution_count": 115,
   "metadata": {},
   "outputs": [
    {
     "name": "stdout",
     "output_type": "stream",
     "text": [
      "pico2wave --wave=/tmp/tmphpxj1b4s -len-GB \"hello, my name is Lyza\" && aplay /tmp/tmphpxj1b4s && rm /tmp/tmphpxj1b4s\n"
     ]
    }
   ],
   "source": [
    "command = \"pico2wave --wave={} -len-GB {} && aplay {} && rm {}\".format(\n",
    "    fname,\n",
    "    text,\n",
    "    fname,\n",
    "    fname\n",
    ")\n",
    "print(command)"
   ]
  },
  {
   "cell_type": "code",
   "execution_count": 114,
   "metadata": {},
   "outputs": [
    {
     "name": "stdout",
     "output_type": "stream",
     "text": [
      "CPU times: user 10 ms, sys: 0 ns, total: 10 ms\n",
      "Wall time: 18 ms\n"
     ]
    },
    {
     "data": {
      "text/plain": [
       "<subprocess.Popen at 0x70baef50>"
      ]
     },
     "execution_count": 114,
     "metadata": {},
     "output_type": "execute_result"
    }
   ],
   "source": [
    "%time subprocess.Popen(['bash', '-c', command])"
   ]
  },
  {
   "cell_type": "code",
   "execution_count": 10,
   "metadata": {},
   "outputs": [],
   "source": [
    "import os"
   ]
  },
  {
   "cell_type": "code",
   "execution_count": 99,
   "metadata": {},
   "outputs": [],
   "source": [
    "def say_something_better(text):\n",
    "    number, fname = tempfile.mkstemp(suffix='.wav')\n",
    "    subprocess.call([\"pico2wave\", \"--wave={}\".format(fname), \"-len-GB\", text])\n",
    "    subprocess.Popen([\"aplay\", \"{}\".format(fname)])\n",
    "    os.remove(fname)"
   ]
  },
  {
   "cell_type": "code",
   "execution_count": 100,
   "metadata": {},
   "outputs": [
    {
     "name": "stdout",
     "output_type": "stream",
     "text": [
      "CPU times: user 0 ns, sys: 20 ms, total: 20 ms\n",
      "Wall time: 134 ms\n"
     ]
    }
   ],
   "source": [
    "%time say_something_better(text)"
   ]
  },
  {
   "cell_type": "code",
   "execution_count": 11,
   "metadata": {},
   "outputs": [],
   "source": [
    "def say_something_better_async(text):\n",
    "    number, fname = tempfile.mkstemp(suffix='.wav')\n",
    "    command = 'pico2wave --wave={} -len-GB \"{}\" && aplay {} && rm {}'.format(\n",
    "        fname,\n",
    "        text,\n",
    "        fname,\n",
    "        fname\n",
    "    )\n",
    "    subprocess.Popen(['bash', '-c', command])\n",
    "    return command"
   ]
  },
  {
   "cell_type": "code",
   "execution_count": 17,
   "metadata": {},
   "outputs": [
    {
     "name": "stdout",
     "output_type": "stream",
     "text": [
      "CPU times: user 0 ns, sys: 10 ms, total: 10 ms\n",
      "Wall time: 21.9 ms\n"
     ]
    },
    {
     "data": {
      "text/plain": [
       "'pico2wave --wave=/tmp/tmpqvu1p9hm.wav -len-GB \"When I see tiger cat, I think of cat.\" && aplay /tmp/tmpqvu1p9hm.wav && rm /tmp/tmpqvu1p9hm.wav'"
      ]
     },
     "execution_count": 17,
     "metadata": {},
     "output_type": "execute_result"
    }
   ],
   "source": [
    "%time say_something_better_async(\"When I see tiger cat, I think of cat.\")"
   ]
  },
  {
   "cell_type": "code",
   "execution_count": 25,
   "metadata": {},
   "outputs": [
    {
     "data": {
      "text/plain": [
       "'pico2wave --wave=/tmp/tmpm2togpd6.wav -len-GB \"I want to go outside\" && aplay /tmp/tmpm2togpd6.wav && rm /tmp/tmpm2togpd6.wav'"
      ]
     },
     "execution_count": 25,
     "metadata": {},
     "output_type": "execute_result"
    }
   ],
   "source": [
    "say_something_better_async(\". I want to go outside\")"
   ]
  },
  {
   "cell_type": "code",
   "execution_count": null,
   "metadata": {},
   "outputs": [],
   "source": []
  }
 ],
 "metadata": {
  "kernelspec": {
   "display_name": "Python 3",
   "language": "python",
   "name": "python3"
  },
  "language_info": {
   "codemirror_mode": {
    "name": "ipython",
    "version": 3
   },
   "file_extension": ".py",
   "mimetype": "text/x-python",
   "name": "python",
   "nbconvert_exporter": "python",
   "pygments_lexer": "ipython3",
   "version": "3.5.3"
  }
 },
 "nbformat": 4,
 "nbformat_minor": 2
}
