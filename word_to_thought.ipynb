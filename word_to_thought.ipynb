{
 "cells": [
  {
   "cell_type": "code",
   "execution_count": 23,
   "metadata": {},
   "outputs": [],
   "source": [
    "import requests\n",
    "from urllib.parse import urlencode"
   ]
  },
  {
   "cell_type": "markdown",
   "metadata": {},
   "source": [
    "## Requesting entities from wikipedia"
   ]
  },
  {
   "cell_type": "markdown",
   "metadata": {},
   "source": [
    "https://en.wikipedia.org/w/api.php?action=opensearch&format=json&redirects=resolve&origin=*&search=man"
   ]
  },
  {
   "cell_type": "code",
   "execution_count": 138,
   "metadata": {},
   "outputs": [],
   "source": [
    "wiki_url_pattern = \"https://en.wikipedia.org/w/api.php?action=opensearch&format=json&redirects=resolve&origin=*&search={}\"\n",
    "\n",
    "def get_entity(name):\n",
    "    query_url = wiki_url_pattern.format(name)\n",
    "    r = requests.get(query_url)\n",
    "    if r.status_code != 200:\n",
    "        return\n",
    "    r_js = r.json()\n",
    "#     print(r_js[1][0])\n",
    "    return  r_js[1][0], r_js[2][0], r_js[3][0]"
   ]
  },
  {
   "cell_type": "code",
   "execution_count": 83,
   "metadata": {},
   "outputs": [],
   "source": [
    "entity_name, entity_description, wiki_url = get_entity(\"man\")"
   ]
  },
  {
   "cell_type": "code",
   "execution_count": 65,
   "metadata": {},
   "outputs": [
    {
     "data": {
      "text/plain": [
       "'Man'"
      ]
     },
     "execution_count": 65,
     "metadata": {},
     "output_type": "execute_result"
    }
   ],
   "source": [
    "entity_name"
   ]
  },
  {
   "cell_type": "code",
   "execution_count": 66,
   "metadata": {},
   "outputs": [
    {
     "data": {
      "text/plain": [
       "'A man is a male human. The term man is usually reserved for an adult male, with the term boy being the usual term for a male child or adolescent.'"
      ]
     },
     "execution_count": 66,
     "metadata": {},
     "output_type": "execute_result"
    }
   ],
   "source": [
    "entity_description"
   ]
  },
  {
   "cell_type": "code",
   "execution_count": 84,
   "metadata": {},
   "outputs": [
    {
     "data": {
      "text/plain": [
       "'https://en.wikipedia.org/wiki/Man'"
      ]
     },
     "execution_count": 84,
     "metadata": {},
     "output_type": "execute_result"
    }
   ],
   "source": [
    "wiki_url"
   ]
  },
  {
   "cell_type": "markdown",
   "metadata": {},
   "source": [
    "## Getting the associations from Jörn's API"
   ]
  },
  {
   "cell_type": "markdown",
   "metadata": {},
   "source": [
    "```\n",
    "curl 'https://projects.dfki.uni-kl.de/graph-pattern-learner/api/predict' -H 'Origin: https://joernhees.github.io' -H 'Accept-Encoding: gzip, deflate, br' -H 'Accept-Language: en-GB,en;q=0.9,de;q=0.8' -H 'User-Agent: Mozilla/5.0 (Macintosh; Intel Mac OS X 10_12_6) AppleWebKit/537.36 (KHTML, like Gecko) Chrome/65.0.3325.181 Safari/537.36' -H 'Content-Type: application/x-www-form-urlencoded; charset=UTF-8' -H 'Accept: application/json, text/javascript, */*; q=0.01' -H 'Referer: https://joernhees.github.io/associations/gp_learner/demo/predict.html' -H 'Connection: keep-alive' --data 'source=http%3A%2F%2Fdbpedia.org%2Fresource%2FMan' --compressed\n",
    "```"
   ]
  },
  {
   "cell_type": "markdown",
   "metadata": {},
   "source": [
    "```\n",
    "POST /graph-pattern-learner/api/predict HTTP/1.1\n",
    "Host: projects.dfki.uni-kl.de\n",
    "Connection: keep-alive\n",
    "Content-Length: 48\n",
    "Accept: application/json, text/javascript, */*; q=0.01\n",
    "Origin: https://joernhees.github.io\n",
    "User-Agent: Mozilla/5.0 (Macintosh; Intel Mac OS X 10_12_6) AppleWebKit/537.36 (KHTML, like Gecko) Chrome/65.0.3325.181 Safari/537.36\n",
    "Content-Type: application/x-www-form-urlencoded; charset=UTF-8\n",
    "Referer: https://joernhees.github.io/associations/gp_learner/demo/predict.html\n",
    "Accept-Encoding: gzip, deflate, br\n",
    "Accept-Language: en-GB,en;q=0.9,de;q=0.8\n",
    "```"
   ]
  },
  {
   "cell_type": "code",
   "execution_count": 25,
   "metadata": {},
   "outputs": [
    {
     "data": {
      "text/plain": [
       "'source=https%3A%2F%2Fen.wikipedia.org%2Fwiki%2FMan'"
      ]
     },
     "execution_count": 25,
     "metadata": {},
     "output_type": "execute_result"
    }
   ],
   "source": [
    "urlencode({\"source\":entity_uri})"
   ]
  },
  {
   "cell_type": "code",
   "execution_count": 136,
   "metadata": {},
   "outputs": [],
   "source": [
    "association_url = \"https://projects.dfki.uni-kl.de/graph-pattern-learner/api/predict\"\n",
    "dbpedia_pattern = \"http://dbpedia.org/resource/{}\"\n",
    "\n",
    "def get_prediction(entity_name):\n",
    "    no_spaces_name = \"_\".join(entity_name.split())\n",
    "    dbpedia_url = dbpedia_pattern.format(no_spaces_name)\n",
    "    payload = {'source': dbpedia_url}\n",
    "    r = requests.post(association_url, data=payload)\n",
    "    if r.status_code != 200:\n",
    "        return r\n",
    "    \n",
    "    r_js = r.json()\n",
    "    return r_js"
   ]
  },
  {
   "cell_type": "code",
   "execution_count": 75,
   "metadata": {},
   "outputs": [
    {
     "data": {
      "text/plain": [
       "'http://dbpedia.org/resource/Fruit'"
      ]
     },
     "execution_count": 75,
     "metadata": {},
     "output_type": "execute_result"
    }
   ],
   "source": [
    "r = get_prediction(\"Banana\")\n",
    "r['fused_results']['f_measures'][0][0]"
   ]
  },
  {
   "cell_type": "markdown",
   "metadata": {},
   "source": [
    "## putting it together"
   ]
  },
  {
   "cell_type": "code",
   "execution_count": 120,
   "metadata": {},
   "outputs": [],
   "source": [
    "def get_association(query):\n",
    "    entity_name, entity_description, wiki_url = get_entity(query)\n",
    "    r = get_prediction(entity_name)\n",
    "    prediction_uri = r['fused_results']['precisions'][0][0]\n",
    "    prediction_name = prediction_uri.split('/')[-1]\n",
    "    return entity_name, prediction_name"
   ]
  },
  {
   "cell_type": "code",
   "execution_count": 121,
   "metadata": {},
   "outputs": [
    {
     "data": {
      "text/plain": [
       "('Man', 'Human')"
      ]
     },
     "execution_count": 121,
     "metadata": {},
     "output_type": "execute_result"
    }
   ],
   "source": [
    "pred = get_association('man')\n",
    "pred"
   ]
  },
  {
   "cell_type": "markdown",
   "metadata": {},
   "source": [
    "## Output"
   ]
  },
  {
   "cell_type": "code",
   "execution_count": 122,
   "metadata": {},
   "outputs": [],
   "source": [
    "import subprocess"
   ]
  },
  {
   "cell_type": "code",
   "execution_count": 123,
   "metadata": {},
   "outputs": [],
   "source": [
    "def say(sentence):\n",
    "    subprocess.run(['say', sentence])"
   ]
  },
  {
   "cell_type": "code",
   "execution_count": 124,
   "metadata": {},
   "outputs": [],
   "source": [
    "say(\"hi sandro\")"
   ]
  },
  {
   "cell_type": "markdown",
   "metadata": {},
   "source": [
    "## Everything"
   ]
  },
  {
   "cell_type": "code",
   "execution_count": 141,
   "metadata": {},
   "outputs": [],
   "source": [
    "say_pattern = \"When I see {}, I think of {}\"\n",
    "\n",
    "def see_say(query):\n",
    "    db_query, response = get_association(query)\n",
    "    say_sentence = say_pattern.format(db_query, response)\n",
    "    print(say_sentence)\n",
    "    say(say_sentence)"
   ]
  },
  {
   "cell_type": "code",
   "execution_count": 154,
   "metadata": {},
   "outputs": [
    {
     "name": "stdout",
     "output_type": "stream",
     "text": [
      "When I see Leggings, I think of Trousers\n"
     ]
    }
   ],
   "source": [
    "see_say('leggings')"
   ]
  },
  {
   "cell_type": "code",
   "execution_count": null,
   "metadata": {},
   "outputs": [],
   "source": []
  }
 ],
 "metadata": {
  "kernelspec": {
   "display_name": "Python 3",
   "language": "python",
   "name": "python3"
  },
  "language_info": {
   "codemirror_mode": {
    "name": "ipython",
    "version": 3
   },
   "file_extension": ".py",
   "mimetype": "text/x-python",
   "name": "python",
   "nbconvert_exporter": "python",
   "pygments_lexer": "ipython3",
   "version": "3.6.4"
  }
 },
 "nbformat": 4,
 "nbformat_minor": 2
}
